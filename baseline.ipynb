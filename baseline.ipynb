{
 "cells": [
  {
   "cell_type": "code",
   "execution_count": 1,
   "metadata": {},
   "outputs": [
    {
     "name": "stderr",
     "output_type": "stream",
     "text": [
      "/Users/noname/Desktop/pytest/ml/ods_vk_recsys/venv/lib/python3.9/site-packages/tqdm/auto.py:21: TqdmWarning: IProgress not found. Please update jupyter and ipywidgets. See https://ipywidgets.readthedocs.io/en/stable/user_install.html\n",
      "  from .autonotebook import tqdm as notebook_tqdm\n"
     ]
    }
   ],
   "source": [
    "from scipy.sparse import csr_matrix\n",
    "import polars as pl\n",
    "import implicit"
   ]
  },
  {
   "cell_type": "code",
   "execution_count": 2,
   "metadata": {},
   "outputs": [],
   "source": [
    "train = pl.scan_parquet(\"train_interactions.parquet\")\n",
    "train = train.filter((pl.col(\"like\") + pl.col(\"dislike\")) >= 1)\n",
    "train = train.with_columns(weight=pl.col(\"like\") - pl.col(\"dislike\"))\n",
    "train = train.select(\"user_id\", \"item_id\", \"weight\")"
   ]
  },
  {
   "cell_type": "code",
   "execution_count": 3,
   "metadata": {},
   "outputs": [],
   "source": [
    "train = train.collect()"
   ]
  },
  {
   "cell_type": "code",
   "execution_count": 4,
   "metadata": {},
   "outputs": [],
   "source": [
    "items_meta = pl.read_parquet(\"items_meta.parquet\")\n",
    "users_meta = pl.read_parquet(\"users_meta.parquet\")\n",
    "n_items = items_meta[\"item_id\"].max() + 1\n",
    "n_users = users_meta[\"user_id\"].max() + 1"
   ]
  },
  {
   "cell_type": "code",
   "execution_count": 5,
   "metadata": {},
   "outputs": [],
   "source": [
    "train = csr_matrix((train[\"weight\"], \n",
    "                    (train[\"user_id\"].to_numpy(), \n",
    "                     train[\"item_id\"].to_numpy())),\n",
    "                   shape=(n_users, n_items))"
   ]
  },
  {
   "cell_type": "code",
   "execution_count": 6,
   "metadata": {},
   "outputs": [
    {
     "name": "stderr",
     "output_type": "stream",
     "text": [
      "/Users/noname/Desktop/pytest/ml/ods_vk_recsys/venv/lib/python3.9/site-packages/implicit/cpu/als.py:95: RuntimeWarning: OpenBLAS is configured to use 8 threads. It is highly recommended to disable its internal threadpool by setting the environment variable 'OPENBLAS_NUM_THREADS=1' or by calling 'threadpoolctl.threadpool_limits(1, \"blas\")'. Having OpenBLAS use a threadpool can lead to severe performance issues here.\n",
      "  check_blas_config()\n",
      "100%|██████████| 10/10 [00:18<00:00,  1.87s/it, loss=0.0062] \n"
     ]
    }
   ],
   "source": [
    "model = implicit.als.AlternatingLeastSquares(factors=16, \n",
    "                                             iterations=10, \n",
    "                                             regularization=1, \n",
    "                                             alpha=100,\n",
    "                                             calculate_training_loss=True)\n",
    "model.fit(train)"
   ]
  },
  {
   "cell_type": "code",
   "execution_count": 7,
   "metadata": {},
   "outputs": [
    {
     "data": {
      "text/html": [
       "<div><style>\n",
       ".dataframe > thead > tr,\n",
       ".dataframe > tbody > tr {\n",
       "  text-align: right;\n",
       "  white-space: pre-wrap;\n",
       "}\n",
       "</style>\n",
       "<small>shape: (1_655_120, 2)</small><table border=\"1\" class=\"dataframe\"><thead><tr><th>user_id</th><th>item_id</th></tr><tr><td>i64</td><td>i64</td></tr></thead><tbody><tr><td>1</td><td>7363</td></tr><tr><td>1</td><td>73770</td></tr><tr><td>1</td><td>75700</td></tr><tr><td>1</td><td>81204</td></tr><tr><td>1</td><td>110249</td></tr><tr><td>&hellip;</td><td>&hellip;</td></tr><tr><td>183403</td><td>235097</td></tr><tr><td>183403</td><td>267411</td></tr><tr><td>183403</td><td>273646</td></tr><tr><td>183403</td><td>288305</td></tr><tr><td>183403</td><td>322029</td></tr></tbody></table></div>"
      ],
      "text/plain": [
       "shape: (1_655_120, 2)\n",
       "┌─────────┬─────────┐\n",
       "│ user_id ┆ item_id │\n",
       "│ ---     ┆ ---     │\n",
       "│ i64     ┆ i64     │\n",
       "╞═════════╪═════════╡\n",
       "│ 1       ┆ 7363    │\n",
       "│ 1       ┆ 73770   │\n",
       "│ 1       ┆ 75700   │\n",
       "│ 1       ┆ 81204   │\n",
       "│ 1       ┆ 110249  │\n",
       "│ …       ┆ …       │\n",
       "│ 183403  ┆ 235097  │\n",
       "│ 183403  ┆ 267411  │\n",
       "│ 183403  ┆ 273646  │\n",
       "│ 183403  ┆ 288305  │\n",
       "│ 183403  ┆ 322029  │\n",
       "└─────────┴─────────┘"
      ]
     },
     "execution_count": 7,
     "metadata": {},
     "output_type": "execute_result"
    }
   ],
   "source": [
    "test_pairs = pl.read_csv('test_pairs.csv')\n",
    "test_pairs"
   ]
  },
  {
   "cell_type": "code",
   "execution_count": 8,
   "metadata": {},
   "outputs": [],
   "source": [
    "als_predict = (model.user_factors[test_pairs['user_id']] * \n",
    "               model.item_factors[test_pairs['item_id']]).sum(axis=1)"
   ]
  },
  {
   "cell_type": "code",
   "execution_count": 9,
   "metadata": {},
   "outputs": [],
   "source": [
    "test_pairs.with_columns(predict=als_predict).write_csv('sample_submission.csv')"
   ]
  },
  {
   "cell_type": "code",
   "execution_count": 14,
   "metadata": {},
   "outputs": [],
   "source": [
    "from sklearn.metrics import roc_auc_score\n"
   ]
  },
  {
   "cell_type": "code",
   "execution_count": 15,
   "metadata": {},
   "outputs": [
    {
     "name": "stdout",
     "output_type": "stream",
     "text": [
      "Распределение весов в исходных данных:\n",
      "shape: (2, 2)\n",
      "┌────────┬─────────┐\n",
      "│ weight ┆ count   │\n",
      "│ ---    ┆ ---     │\n",
      "│ u8     ┆ u32     │\n",
      "╞════════╪═════════╡\n",
      "│ 1      ┆ 4344629 │\n",
      "│ 255    ┆ 36509   │\n",
      "└────────┴─────────┘\n"
     ]
    },
    {
     "name": "stderr",
     "output_type": "stream",
     "text": [
      "100%|██████████| 10/10 [00:11<00:00,  1.19s/it, loss=0.00348]\n"
     ]
    },
    {
     "name": "stdout",
     "output_type": "stream",
     "text": [
      "\n",
      "Распределение классов в val_true:\n",
      "shape: (2, 2)\n",
      "┌────────┬────────┐\n",
      "│ weight ┆ count  │\n",
      "│ ---    ┆ ---    │\n",
      "│ i64    ┆ u32    │\n",
      "╞════════╪════════╡\n",
      "│ 0      ┆ 868926 │\n",
      "│ 1      ┆ 7302   │\n",
      "└────────┴────────┘\n",
      "\n",
      "Validation ROC AUC: 0.3137\n"
     ]
    }
   ],
   "source": [
    "# Проверим распределение весов\n",
    "print(\"Распределение весов в исходных данных:\")\n",
    "print(train_df['weight'].value_counts())\n",
    "\n",
    "# Вычислим пороговое значение (например, будем считать высоким весом значения >= 255)\n",
    "weight_threshold = 128  # или можно использовать train_df['weight'].mean()\n",
    "\n",
    "# Модифицируем код для создания сбалансированной выборки\n",
    "train_df, val_df = train_test_split(\n",
    "    train_df, \n",
    "    test_size=0.2, \n",
    "    random_state=42,\n",
    "    stratify=train_df['weight'] >= weight_threshold  # стратификация по новым бинарным меткам\n",
    ")\n",
    "\n",
    "# Создаем sparse matrices\n",
    "train_matrix = csr_matrix((train_df['weight'], \n",
    "                          (train_df['user_id'], train_df['item_id'])),\n",
    "                         shape=(n_users, n_items))\n",
    "\n",
    "# Обучаем модель\n",
    "model.fit(train_matrix)\n",
    "\n",
    "# Получаем предсказания для валидационной выборки\n",
    "val_predictions = (model.user_factors[val_df['user_id']] * \n",
    "                  model.item_factors[val_df['item_id']]).sum(axis=1)\n",
    "\n",
    "# Преобразуем веса в бинарные метки с новым порогом\n",
    "val_true = (val_df['weight'] >= weight_threshold).cast(int)\n",
    "\n",
    "# Проверим распределение классов\n",
    "print(\"\\nРаспределение классов в val_true:\")\n",
    "print(pl.Series(val_true).value_counts())\n",
    "\n",
    "# Считаем ROC AUC\n",
    "roc_auc = roc_auc_score(val_true, val_predictions)\n",
    "print(f\"\\nValidation ROC AUC: {roc_auc:.4f}\")"
   ]
  }
 ],
 "metadata": {
  "kernelspec": {
   "display_name": "ods",
   "language": "python",
   "name": "python3"
  },
  "language_info": {
   "codemirror_mode": {
    "name": "ipython",
    "version": 3
   },
   "file_extension": ".py",
   "mimetype": "text/x-python",
   "name": "python",
   "nbconvert_exporter": "python",
   "pygments_lexer": "ipython3",
   "version": "3.9.6"
  }
 },
 "nbformat": 4,
 "nbformat_minor": 2
}
