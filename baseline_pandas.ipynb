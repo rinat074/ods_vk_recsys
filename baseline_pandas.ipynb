{
 "cells": [
  {
   "cell_type": "code",
   "execution_count": 35,
   "metadata": {},
   "outputs": [],
   "source": [
    "from scipy.sparse import csr_matrix\n",
    "import pandas as pd\n",
    "import implicit\n",
    "from sklearn.metrics import roc_auc_score\n",
    "from sklearn.model_selection import train_test_split"
   ]
  },
  {
   "cell_type": "code",
   "execution_count": 36,
   "metadata": {},
   "outputs": [],
   "source": [
    "# Загрузка и предобработка данных\n",
    "train = pd.read_parquet(\"train_interactions.parquet\")\n",
    "train = train[train['like'] + train['dislike'] >= 1]\n",
    "\n",
    "# Разделяем данные на train и validation до создания столбца weight\n",
    "train_data, val_data = train_test_split(train, test_size=0.2, random_state=42)\n"
   ]
  },
  {
   "cell_type": "code",
   "execution_count": 37,
   "metadata": {},
   "outputs": [],
   "source": [
    "# Загрузка метаданных\n",
    "items_meta = pd.read_parquet(\"items_meta.parquet\")\n",
    "users_meta = pd.read_parquet(\"users_meta.parquet\")\n",
    "n_items = items_meta['item_id'].max() + 1\n",
    "n_users = users_meta['user_id'].max() + 1"
   ]
  },
  {
   "cell_type": "code",
   "execution_count": 38,
   "metadata": {},
   "outputs": [],
   "source": [
    "# Создаем столбец weight для train_data\n",
    "train_data['weight'] = train_data['like'] - train_data['dislike']\n",
    "train_sparse = csr_matrix((train_data['weight'], \n",
    "                          (train_data['user_id'], \n",
    "                           train_data['item_id'])),\n",
    "                         shape=(n_users, n_items))"
   ]
  },
  {
   "cell_type": "code",
   "execution_count": 39,
   "metadata": {},
   "outputs": [
    {
     "name": "stderr",
     "output_type": "stream",
     "text": [
      "100%|██████████| 10/10 [00:22<00:00,  2.21s/it, loss=0.0062] \n"
     ]
    }
   ],
   "source": [
    "# Обучаем модель\n",
    "model = implicit.als.AlternatingLeastSquares(factors=16, \n",
    "                                           iterations=10, \n",
    "                                           regularization=1, \n",
    "                                           alpha=100,\n",
    "                                           calculate_training_loss=True)\n",
    "model.fit(train_sparse)"
   ]
  },
  {
   "cell_type": "code",
   "execution_count": 40,
   "metadata": {},
   "outputs": [],
   "source": [
    "# Получаем предсказания для валидационной выборки\n",
    "val_predictions = (model.user_factors[val_data['user_id'].values] * \n",
    "                  model.item_factors[val_data['item_id'].values]).sum(axis=1)\n",
    "\n",
    "# Создаем бинарную метку: 1 если like > dislike, 0 иначе\n",
    "val_true = (val_data['like'] > val_data['dislike']).astype(int)\n",
    "\n",
    "# Вычисляем ROC AUC\n",
    "roc_auc = roc_auc_score(val_true, val_predictions)\n",
    "print(f'Validation ROC AUC: {roc_auc:.4f}')"
   ]
  }
 ],
 "metadata": {
  "kernelspec": {
   "display_name": "ods",
   "language": "python",
   "name": "python3"
  },
  "language_info": {
   "codemirror_mode": {
    "name": "ipython",
    "version": 3
   },
   "file_extension": ".py",
   "mimetype": "text/x-python",
   "name": "python",
   "nbconvert_exporter": "python",
   "pygments_lexer": "ipython3",
   "version": "3.9.6"
  }
 },
 "nbformat": 4,
 "nbformat_minor": 2
}
